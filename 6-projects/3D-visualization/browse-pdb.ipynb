{
 "cells": [
  {
   "cell_type": "markdown",
   "metadata": {},
   "source": [
    "# Browse 3D Structures in the Protein Data Bank (PDB)\n",
    "This notebook demonstrates the use of [ipywidgets](https://ipywidgets.readthedocs.io/en/stable/) to add interactivity to a notebook.\n",
    "\n",
    "The 3D visualization uses the py3Dmol widget:\n",
    "Rego N, Koes, D (2015) 3Dmol.js: molecular visualization with WebGL, Bioinformatics 31, 1322–1324. doi: [10.1093/bioinformatics/btu829](https://doi.org/10.1093/bioinformatics/btu829).\n",
    "\n",
    "High-performance structure download is powered by MMTF:\n",
    "Bradley AR, et al. (2017) MMTF - an efficient file format for the transmission, visualization, and analysis of macromolecular structures. PLOS Computational Biology 13(6): e1005575. doi: [10.1371/journal.pcbi.1005575](https://doi.org/10.1371/journal.pcbi.1005575).\n",
    "\n",
    "To learn more, check out the 3D-visualization tutorial in [mmtf-workshop-2018](https://github.com/sbl-sdsc/mmtf-workshop-2018).\n",
    "\n",
    "For a more complex application, see [mmtf-genomics](https://github.com/sbl-sdsc/mmtf-genomics)."
   ]
  },
  {
   "cell_type": "code",
   "execution_count": 1,
   "metadata": {},
   "outputs": [],
   "source": [
    "import pandas as pd\n",
    "from ipywidgets import interact, IntSlider\n",
    "import py3Dmol"
   ]
  },
  {
   "cell_type": "markdown",
   "metadata": {},
   "source": [
    "## Retrieve the list of current PDB Ids"
   ]
  },
  {
   "cell_type": "code",
   "execution_count": 2,
   "metadata": {},
   "outputs": [
    {
     "data": {
      "text/html": [
       "<div>\n",
       "<style scoped>\n",
       "    .dataframe tbody tr th:only-of-type {\n",
       "        vertical-align: middle;\n",
       "    }\n",
       "\n",
       "    .dataframe tbody tr th {\n",
       "        vertical-align: top;\n",
       "    }\n",
       "\n",
       "    .dataframe thead th {\n",
       "        text-align: right;\n",
       "    }\n",
       "</style>\n",
       "<table border=\"1\" class=\"dataframe\">\n",
       "  <thead>\n",
       "    <tr style=\"text-align: right;\">\n",
       "      <th></th>\n",
       "      <th>resultCount</th>\n",
       "      <th>idList</th>\n",
       "    </tr>\n",
       "  </thead>\n",
       "  <tbody>\n",
       "    <tr>\n",
       "      <th>0</th>\n",
       "      <td>153601</td>\n",
       "      <td>100D</td>\n",
       "    </tr>\n",
       "    <tr>\n",
       "      <th>1</th>\n",
       "      <td>153601</td>\n",
       "      <td>101D</td>\n",
       "    </tr>\n",
       "    <tr>\n",
       "      <th>2</th>\n",
       "      <td>153601</td>\n",
       "      <td>101M</td>\n",
       "    </tr>\n",
       "    <tr>\n",
       "      <th>3</th>\n",
       "      <td>153601</td>\n",
       "      <td>102D</td>\n",
       "    </tr>\n",
       "    <tr>\n",
       "      <th>4</th>\n",
       "      <td>153601</td>\n",
       "      <td>102L</td>\n",
       "    </tr>\n",
       "  </tbody>\n",
       "</table>\n",
       "</div>"
      ],
      "text/plain": [
       "   resultCount idList\n",
       "0       153601   100D\n",
       "1       153601   101D\n",
       "2       153601   101M\n",
       "3       153601   102D\n",
       "4       153601   102L"
      ]
     },
     "execution_count": 2,
     "metadata": {},
     "output_type": "execute_result"
    }
   ],
   "source": [
    "pdb_ids = pd.read_json(\"https://www.rcsb.org/pdb/json/getCurrent\")\n",
    "\n",
    "# show the top 5 rows\n",
    "pdb_ids.head()"
   ]
  },
  {
   "cell_type": "code",
   "execution_count": 3,
   "metadata": {
    "scrolled": true
   },
   "outputs": [
    {
     "name": "stdout",
     "output_type": "stream",
     "text": [
      "Current number of PDB entries: 153601\n"
     ]
    }
   ],
   "source": [
    "print(\"Current number of PDB entries:\", pdb_ids.shape[0])"
   ]
  },
  {
   "cell_type": "markdown",
   "metadata": {},
   "source": [
    "## Use ipywidgets to change parameters interactively\n",
    "* **show_bio_assembly:** toggle display of the biologically active form of the structure\n",
    "* **show_surface:** toggle display of a transparent surface\n",
    "* **size:** move slider to change size of canvas\n",
    "* **structure:** move slider to browser through the PDB structures"
   ]
  },
  {
   "cell_type": "markdown",
   "metadata": {},
   "source": [
    "The cell below is hidden. Click on the triangle at the left to expand the cell."
   ]
  },
  {
   "cell_type": "code",
   "execution_count": 4,
   "metadata": {
    "code_folding": [
     0
    ]
   },
   "outputs": [],
   "source": [
    "# Setup viewer\n",
    "def view_structure(df):\n",
    "\n",
    "    def view3d(show_bio_assembly, show_surface, size, i):        \n",
    "        pdb_id = df.iloc[i-1]['idList']\n",
    "        \n",
    "        viewer = py3Dmol.view(query='pdb:' + pdb_id, options={'doAssembly': show_bio_assembly}, width=size, height=size)\n",
    "\n",
    "        # polymer style\n",
    "        viewer.setStyle({'cartoon': {'color': 'spectrum', 'width': 0.6}})\n",
    "\n",
    "        # non-polymer style\n",
    "        viewer.setStyle({'hetflag': True}, {'stick':{'radius': 0.3, 'singleBond': False}})\n",
    "       \n",
    "        if show_surface:\n",
    "             viewer.addSurface(py3Dmol.SES, {'opacity':0.8,'color':'lightblue'}, {})\n",
    "                \n",
    "        # print header\n",
    "        print(\"Click and drag mouse to rotate structure: PDB ID\", pdb_id)\n",
    "          \n",
    "        return viewer.show()\n",
    "       \n",
    "    # create a slider to browse through the list of PDB Ids\n",
    "    s_widget = IntSlider(min=1, max=len(df), description='structure', continuous_update=False)\n",
    "    \n",
    "    # create a menu with radio boxes and sliders\n",
    "    return interact(view3d, show_bio_assembly=False, show_surface=False, size=750, i=s_widget)"
   ]
  },
  {
   "cell_type": "code",
   "execution_count": 5,
   "metadata": {},
   "outputs": [
    {
     "name": "stdout",
     "output_type": "stream",
     "text": [
      "Click and drag mouse to rotate structure: PDB ID 100D\n"
     ]
    },
    {
     "data": {
      "application/3dmoljs_load.v0": "<div id=\"3dmolviewer_1562638511419998\"  style=\"position: relative; width: 750px; height: 750px\">\n        <p id=\"3dmolwarning_1562638511419998\" style=\"background-color:#ffcccc;color:black\">You appear to be running in JupyterLab (or JavaScript failed to load for some other reason).  You need to install the 3dmol extension: <br>\n        <tt>jupyter labextension install jupyterlab_3dmol</tt></p>\n        </div>\n<script>\n\nvar loadScriptAsync = function(uri){\n  return new Promise((resolve, reject) => {\n    var tag = document.createElement('script');\n    tag.src = uri;\n    tag.async = true;\n    tag.onload = () => {\n      resolve();\n    };\n  var firstScriptTag = document.getElementsByTagName('script')[0];\n  firstScriptTag.parentNode.insertBefore(tag, firstScriptTag);\n});\n};\n\nif(typeof $3Dmolpromise === 'undefined') {\n$3Dmolpromise = null;\n  $3Dmolpromise = loadScriptAsync('https://3dmol.csb.pitt.edu/build/3Dmol.js');\n}\n\nvar viewer_1562638511419998 = null;\nvar warn = document.getElementById(\"3dmolwarning_1562638511419998\");\nif(warn) {\n    warn.parentNode.removeChild(warn);\n}\n$3Dmolpromise.then(function() {\nviewer_1562638511419998 = $3Dmol.createViewer($(\"#3dmolviewer_1562638511419998\"),{backgroundColor:\"white\"});\n$3Dmol.download(\"pdb:100D\", viewer_1562638511419998, {\"doAssembly\": false}, function() {\n\tviewer_1562638511419998.setStyle({\"cartoon\": {\"color\": \"spectrum\", \"width\": 0.6}});\n\tviewer_1562638511419998.setStyle({\"hetflag\": true},{\"stick\": {\"radius\": 0.3, \"singleBond\": false}});\nviewer_1562638511419998.render();\n})\n});\n</script>",
      "text/html": [
       "<div id=\"3dmolviewer_1562638511419998\"  style=\"position: relative; width: 750px; height: 750px\">\n",
       "        <p id=\"3dmolwarning_1562638511419998\" style=\"background-color:#ffcccc;color:black\">You appear to be running in JupyterLab (or JavaScript failed to load for some other reason).  You need to install the 3dmol extension: <br>\n",
       "        <tt>jupyter labextension install jupyterlab_3dmol</tt></p>\n",
       "        </div>\n",
       "<script>\n",
       "\n",
       "var loadScriptAsync = function(uri){\n",
       "  return new Promise((resolve, reject) => {\n",
       "    var tag = document.createElement('script');\n",
       "    tag.src = uri;\n",
       "    tag.async = true;\n",
       "    tag.onload = () => {\n",
       "      resolve();\n",
       "    };\n",
       "  var firstScriptTag = document.getElementsByTagName('script')[0];\n",
       "  firstScriptTag.parentNode.insertBefore(tag, firstScriptTag);\n",
       "});\n",
       "};\n",
       "\n",
       "if(typeof $3Dmolpromise === 'undefined') {\n",
       "$3Dmolpromise = null;\n",
       "  $3Dmolpromise = loadScriptAsync('https://3dmol.csb.pitt.edu/build/3Dmol.js');\n",
       "}\n",
       "\n",
       "var viewer_1562638511419998 = null;\n",
       "var warn = document.getElementById(\"3dmolwarning_1562638511419998\");\n",
       "if(warn) {\n",
       "    warn.parentNode.removeChild(warn);\n",
       "}\n",
       "$3Dmolpromise.then(function() {\n",
       "viewer_1562638511419998 = $3Dmol.createViewer($(\"#3dmolviewer_1562638511419998\"),{backgroundColor:\"white\"});\n",
       "$3Dmol.download(\"pdb:100D\", viewer_1562638511419998, {\"doAssembly\": false}, function() {\n",
       "\tviewer_1562638511419998.setStyle({\"cartoon\": {\"color\": \"spectrum\", \"width\": 0.6}});\n",
       "\tviewer_1562638511419998.setStyle({\"hetflag\": true},{\"stick\": {\"radius\": 0.3, \"singleBond\": false}});\n",
       "viewer_1562638511419998.render();\n",
       "})\n",
       "});\n",
       "</script>"
      ]
     },
     "metadata": {},
     "output_type": "display_data"
    }
   ],
   "source": [
    "view_structure(pdb_ids);"
   ]
  },
  {
   "cell_type": "code",
   "execution_count": null,
   "metadata": {},
   "outputs": [],
   "source": []
  }
 ],
 "metadata": {
  "kernelspec": {
   "display_name": "Python 3",
   "language": "python",
   "name": "python3"
  },
  "language_info": {
   "codemirror_mode": {
    "name": "ipython",
    "version": 3
   },
   "file_extension": ".py",
   "mimetype": "text/x-python",
   "name": "python",
   "nbconvert_exporter": "python",
   "pygments_lexer": "ipython3",
   "version": "3.7.3"
  }
 },
 "nbformat": 4,
 "nbformat_minor": 4
}
